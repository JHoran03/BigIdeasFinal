{
 "cells": [
  {
   "cell_type": "markdown",
   "metadata": {},
   "source": [
    "# Final project workbook\n",
    "## Josh Horan\n",
    "\n",
    "For this project, we will be analyzing the neighborhoods in Oakland to determine the healthiest neigborhood.  We came up with this metric as the health of a specific area often highlights a variety of other factors in a neighborhood.  Additionally, there are many ways to analyze this metric, so differeing data can be used.  \n",
    "In this notebook we will be looking specifically at Air Quality."
   ]
  },
  {
   "cell_type": "code",
   "execution_count": 2,
   "metadata": {},
   "outputs": [
    {
     "data": {
      "text/html": [
       "<div>\n",
       "<style scoped>\n",
       "    .dataframe tbody tr th:only-of-type {\n",
       "        vertical-align: middle;\n",
       "    }\n",
       "\n",
       "    .dataframe tbody tr th {\n",
       "        vertical-align: top;\n",
       "    }\n",
       "\n",
       "    .dataframe thead th {\n",
       "        text-align: right;\n",
       "    }\n",
       "</style>\n",
       "<table border=\"1\" class=\"dataframe\">\n",
       "  <thead>\n",
       "    <tr style=\"text-align: right;\">\n",
       "      <th></th>\n",
       "      <th>date</th>\n",
       "      <th>site</th>\n",
       "      <th>parameter</th>\n",
       "      <th>index_value</th>\n",
       "      <th>description</th>\n",
       "      <th>health_advisory</th>\n",
       "      <th>health_effects</th>\n",
       "    </tr>\n",
       "  </thead>\n",
       "  <tbody>\n",
       "    <tr>\n",
       "      <th>0</th>\n",
       "      <td>2016-01-01</td>\n",
       "      <td>Lawrenceville</td>\n",
       "      <td>PM25B</td>\n",
       "      <td>25</td>\n",
       "      <td>Good</td>\n",
       "      <td>NaN</td>\n",
       "      <td>NaN</td>\n",
       "    </tr>\n",
       "    <tr>\n",
       "      <th>1</th>\n",
       "      <td>2016-01-01</td>\n",
       "      <td>Flag Plaza</td>\n",
       "      <td>CO</td>\n",
       "      <td>0</td>\n",
       "      <td>Good</td>\n",
       "      <td>NaN</td>\n",
       "      <td>NaN</td>\n",
       "    </tr>\n",
       "    <tr>\n",
       "      <th>2</th>\n",
       "      <td>2016-01-01</td>\n",
       "      <td>Harrison Township</td>\n",
       "      <td>OZONE</td>\n",
       "      <td>31</td>\n",
       "      <td>Good</td>\n",
       "      <td>NaN</td>\n",
       "      <td>NaN</td>\n",
       "    </tr>\n",
       "    <tr>\n",
       "      <th>3</th>\n",
       "      <td>2016-01-01</td>\n",
       "      <td>Avalon</td>\n",
       "      <td>SO2</td>\n",
       "      <td>10</td>\n",
       "      <td>Good</td>\n",
       "      <td>NaN</td>\n",
       "      <td>NaN</td>\n",
       "    </tr>\n",
       "    <tr>\n",
       "      <th>4</th>\n",
       "      <td>2016-01-01</td>\n",
       "      <td>Lincoln</td>\n",
       "      <td>PM25</td>\n",
       "      <td>35</td>\n",
       "      <td>Good</td>\n",
       "      <td>NaN</td>\n",
       "      <td>NaN</td>\n",
       "    </tr>\n",
       "  </tbody>\n",
       "</table>\n",
       "</div>"
      ],
      "text/plain": [
       "         date               site parameter  index_value description  \\\n",
       "0  2016-01-01      Lawrenceville     PM25B           25        Good   \n",
       "1  2016-01-01         Flag Plaza        CO            0        Good   \n",
       "2  2016-01-01  Harrison Township     OZONE           31        Good   \n",
       "3  2016-01-01             Avalon       SO2           10        Good   \n",
       "4  2016-01-01            Lincoln      PM25           35        Good   \n",
       "\n",
       "  health_advisory health_effects  \n",
       "0             NaN            NaN  \n",
       "1             NaN            NaN  \n",
       "2             NaN            NaN  \n",
       "3             NaN            NaN  \n",
       "4             NaN            NaN  "
      ]
     },
     "execution_count": 2,
     "metadata": {},
     "output_type": "execute_result"
    }
   ],
   "source": [
    "import pandas as pd\n",
    "\n",
    "air = pd.read_csv(\"airq.csv\",sep=\",\")\n",
    "air.head()"
   ]
  },
  {
   "cell_type": "markdown",
   "metadata": {
    "jupyter": {
     "source_hidden": true
    }
   },
   "source": [
    "As seen above, the data is organized in terms of the date of the reading, where the reading was taken and, any needed health advisories. "
   ]
  },
  {
   "cell_type": "code",
   "execution_count": 52,
   "metadata": {},
   "outputs": [
    {
     "data": {
      "text/plain": [
       "Parkway East             6804\n",
       "North Braddock           4882\n",
       "Lawrenceville 2          4528\n",
       "Liberty 2                4468\n",
       "South Fayette            4406\n",
       "Harrison Township        4367\n",
       "Flag Plaza               4002\n",
       "Avalon                   3843\n",
       "Lawrenceville            3805\n",
       "Lincoln                  3574\n",
       "Liberty                  2285\n",
       "Glassport High Street    2272\n",
       "Pittsburgh                904\n",
       "Clairton                  329\n",
       "West Mifflin              301\n",
       "Name: site, dtype: int64"
      ]
     },
     "execution_count": 52,
     "metadata": {},
     "output_type": "execute_result"
    }
   ],
   "source": [
    "air['site'].value_counts()"
   ]
  },
  {
   "cell_type": "markdown",
   "metadata": {},
   "source": [
    "This list is the number of air reading"
   ]
  },
  {
   "cell_type": "code",
   "execution_count": 3,
   "metadata": {},
   "outputs": [
    {
     "data": {
      "text/plain": [
       "<matplotlib.axes._subplots.AxesSubplot at 0x7f6381d5a040>"
      ]
     },
     "execution_count": 3,
     "metadata": {},
     "output_type": "execute_result"
    },
    {
     "data": {
      "image/png": "[encoded data removed]",
      "text/plain": [
       "<Figure size 432x288 with 1 Axes>"
      ]
     },
     "metadata": {
      "needs_background": "light"
     },
     "output_type": "display_data"
    }
   ],
   "source": [
    "#Safe air quality versus unsafe air qualities.\n",
    "#This is determined by taking the total number of moderate,  air quality readings and dividing by the total number of readings\n",
    "air[\"index_value\"].plot.box()\n",
    "#df[\"weight\"].plot.density()"
   ]
  },
  {
   "cell_type": "markdown",
   "metadata": {},
   "source": [
    "The above graph shows the differing air quality in each region.  The lower the number, the higher the air quality.  Most areas often have a safe/no risk attribution however, in some regions air quality is significantly worse."
   ]
  },
  {
   "cell_type": "code",
   "execution_count": 4,
   "metadata": {},
   "outputs": [
    {
     "name": "stdout",
     "output_type": "stream",
     "text": [
      "{'Lincoln': 796, 'Avalon': 511, 'Lawrenceville': 651, 'Parkway East': 644, 'Glassport High Street': 14, 'Liberty 2': 866, 'North Braddock': 132, 'Liberty': 114, 'South Fayette': 148, 'Flag Plaza': 3, 'Harrison Township': 88, 'Clairton': 2, 'Pittsburgh': 121}\n"
     ]
    }
   ],
   "source": [
    "items=dict()\n",
    "count=0\n",
    "item_list=[]\n",
    "cost=0\n",
    "while len(air)>count:\n",
    "    name=air.iat[count,4]\n",
    "    if name==\"Moderate\":\n",
    "        town=air.iat[count,1]\n",
    "        \n",
    "        item_list.append(town)\n",
    "    count+=1\n",
    "for c in item_list:\n",
    "    \n",
    "    if c not in items:\n",
    "        items[c] = 1\n",
    "    else:\n",
    "        items[c] = items[c] + 1\n",
    "    \n",
    "print(items)"
   ]
  },
  {
   "cell_type": "code",
   "execution_count": 23,
   "metadata": {},
   "outputs": [
    {
     "name": "stdout",
     "output_type": "stream",
     "text": [
      "{'Lincoln': 23, 'Liberty 2': 35, 'South Fayette': 7, 'Lawrenceville': 5, 'Harrison Township': 8, 'Liberty': 12, 'Parkway East': 2, 'North Braddock': 2, 'Avalon': 2, 'Pittsburgh': 2}\n"
     ]
    }
   ],
   "source": [
    "items=dict()\n",
    "count=0\n",
    "item_list=[]\n",
    "cost=0\n",
    "while len(air)>count:\n",
    "    name=air.iat[count,4]\n",
    "    if name==\"Unhealthy for Sensitive Groups\":\n",
    "        town=air.iat[count,1]\n",
    "        \n",
    "        item_list.append(town)\n",
    "    count+=1\n",
    "for c in item_list:\n",
    "    \n",
    "    if c not in items:\n",
    "        items[c] = 1\n",
    "    else:\n",
    "        items[c] = items[c] + 1\n",
    "print(items)"
   ]
  },
  {
   "cell_type": "code",
   "execution_count": 25,
   "metadata": {},
   "outputs": [
    {
     "name": "stdout",
     "output_type": "stream",
     "text": [
      "{'Lincoln': 1, 'Liberty 2': 5, 'Parkway East': 1}\n"
     ]
    }
   ],
   "source": [
    "items=dict()\n",
    "count=0\n",
    "item_list=[]\n",
    "cost=0\n",
    "while len(air)>count:\n",
    "    name=air.iat[count,4]\n",
    "    if name==\"Unhealthy\":\n",
    "        town=air.iat[count,1]\n",
    "        \n",
    "        item_list.append(town)\n",
    "    count+=1\n",
    "for c in item_list:\n",
    "    \n",
    "    if c not in items:\n",
    "        items[c] = 1\n",
    "    else:\n",
    "        items[c] = items[c] + 1\n",
    "print(items)"
   ]
  },
  {
   "cell_type": "code",
   "execution_count": 5,
   "metadata": {},
   "outputs": [
    {
     "name": "stdout",
     "output_type": "stream",
     "text": [
      "The percentage of good air quality days are Lincoln is 77.06 %\n",
      "The percentage of good air quality days are Avalon is 86.65 %\n",
      "The percentage of good air quality days are Lawrenceville is 82.76 %\n",
      "The percentage of good air quality days are Liberty 2 is 79.72 %\n",
      "The percentage of good air quality days are Parkway East is 90.49 %\n",
      "The percentage of good air quality days are Glassport High Street is 99.38 %\n",
      "The percentage of good air quality days are North Braddock is 97.26 %\n",
      "The percentage of good air quality days are Liberty is 94.49 %\n",
      "The percentage of good air quality days are South Fayette is 96.48 %\n",
      "The percentage of good air quality days are Flag Plaza is 99.93 %\n",
      "The percentage of good air quality days are Harrison Township is 97.80 %\n",
      "The percentage of good air quality days are Clairton is 99.39 %\n",
      "The percentage of good air quality days are Pittsburgh is 86.39 %\n"
     ]
    }
   ],
   "source": [
    "items=dict()\n",
    "count=0\n",
    "item_list=[]\n",
    "item_list2=[]\n",
    "cost=0\n",
    "while len(air)>count:\n",
    "    \n",
    "    name=air.iat[count,4]\n",
    "    town=air.iat[count,1]\n",
    "        \n",
    "    item_list2.append(town)\n",
    "    if name!=\"Good\":\n",
    "        town=air.iat[count,1]\n",
    "        \n",
    "        item_list.append(town)\n",
    "    count+=1\n",
    "for c in item_list:\n",
    "    \n",
    "    if c not in items:\n",
    "        items[c] = 1\n",
    "    else:\n",
    "        items[c] = items[c] + 1\n",
    "        \n",
    "        \n",
    "        \n",
    "        \n",
    "\n",
    "for i in items:\n",
    "    print(\"The percentage of good air quality days are \"+i +\" is \"+\"{:.2f}\".format(100-(items[i]/item_list2.count(i))*100)+\" %\")"
   ]
  },
  {
   "cell_type": "markdown",
   "metadata": {},
   "source": [
    "### Conclusion\n",
    "    Overall this data set shows that Clariton, Flag Plaza, and Glassport High Street all have very good day to day air quality. However, when looking at the number of readings, Clairton by far has the fewest readings.  This must be consider when declaring it the best neighborhood as there is a very small amount of samples.  Overall from this data set we see that Flag Plaza has the best day to day air quality.  This metric will then be compared to the other data sets to determine what the best neighborhood is.    "
   ]
  },
  {
   "cell_type": "code",
   "execution_count": null,
   "metadata": {},
   "outputs": [],
   "source": []
  }
 ],
 "metadata": {
  "kernelspec": {
   "display_name": "Python 3",
   "language": "python",
   "name": "python3"
  },
  "language_info": {
   "codemirror_mode": {
    "name": "ipython",
    "version": 3
   },
   "file_extension": ".py",
   "mimetype": "text/x-python",
   "name": "python",
   "nbconvert_exporter": "python",
   "pygments_lexer": "ipython3",
   "version": "3.8.3"
  }
 },
 "nbformat": 4,
 "nbformat_minor": 4
}
