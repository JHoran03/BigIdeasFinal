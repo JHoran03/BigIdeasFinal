{
 "cells": [
  {
   "cell_type": "markdown",
   "metadata": {},
   "source": [
    "# Big Idea Final Project\n",
    "\n",
    "## Determining the best neighborhood in Pittsburgh\n",
    "\n",
    "### Introduction\n",
    "The goal of this project is to determine the best neighborhood in Pittsburgh.  To accomplish this goal we looked at various data sets in order to come up with a metric that would determine the best neighborhood.\n",
    "### Metric\n",
    "We determined that the best metric to use would be health.  The metric of health is influnced by many factors, such as pollution and vaccination rates.  Each of these submetrics will aid in determining which neighborhood in Pittsburgh is the healthiest.  To determine this metric we will be looking at 3 different data sets. These include COVID-19 vaccations, air quality readings, and the blood lead percentages found in various neighborhoods.  Each of these metrics detail the health and pollution in a neighborhood.  Neighborhoods with high vaccination rates, low blood lead toxicity and good air quality will be in consideration for the best neighborhood."
   ]
  },
  {
   "cell_type": "code",
   "execution_count": 10,
   "metadata": {},
   "outputs": [
    {
     "name": "stdout",
     "output_type": "stream",
     "text": [
      "0 The percentage of good air quality days are Lincoln is 77.06 %\n",
      "1 The percentage of good air quality days are Avalon is 86.65 %\n",
      "2 The percentage of good air quality days are Lawrenceville is 82.76 %\n",
      "3 The percentage of good air quality days are Liberty 2 is 79.72 %\n",
      "4 The percentage of good air quality days are Parkway East is 90.49 %\n",
      "5 The percentage of good air quality days are Glassport High Street is 99.38 %\n",
      "6 The percentage of good air quality days are North Braddock is 97.26 %\n",
      "7 The percentage of good air quality days are Liberty is 94.49 %\n",
      "8 The percentage of good air quality days are South Fayette is 96.48 %\n",
      "9 The percentage of good air quality days are Flag Plaza is 99.93 %\n",
      "10 The percentage of good air quality days are Harrison Township is 97.80 %\n",
      "11 The percentage of good air quality days are Clairton is 99.39 %\n",
      "12 The percentage of good air quality days are Pittsburgh is 86.39 %\n",
      " \n",
      "A graphical representation of the data is as follows:\n",
      " \n"
     ]
    },
    {
     "data": {
      "image/png": "[encoded data removed]",
      "text/plain": [
       "<Figure size 432x288 with 1 Axes>"
      ]
     },
     "metadata": {
      "needs_background": "light"
     },
     "output_type": "display_data"
    }
   ],
   "source": [
    "#Air Quality data/code\n",
    "import pandas as pd\n",
    "data=pd.Series([77.06,86.65,82.76,79.72,90.49,99.38,97.26,94.49,96.18,99.93,97.80,99.39,86.38])\n",
    "plt=data.sort_index().plot(kind='bar',x='Township', y='percentage')\n",
    "air = pd.read_csv(\"airq.csv\",sep=\",\")\n",
    "items=dict()\n",
    "count=0\n",
    "item_list=[]\n",
    "item_list2=[]\n",
    "cost=0\n",
    "number=0\n",
    "while len(air)>count:\n",
    "    \n",
    "    name=air.iat[count,4]\n",
    "    town=air.iat[count,1]\n",
    "        \n",
    "    item_list2.append(town)\n",
    "    if name!=\"Good\":\n",
    "        town=air.iat[count,1]\n",
    "        \n",
    "        item_list.append(town)\n",
    "    count+=1\n",
    "for c in item_list:\n",
    "    \n",
    "    if c not in items:\n",
    "        items[c] = 1\n",
    "    else:\n",
    "        items[c] = items[c] + 1\n",
    "        \n",
    "        \n",
    "        \n",
    "        \n",
    "\n",
    "for i in items:\n",
    "    num=str(number)\n",
    "    print(num+\" The percentage of good air quality days are \"+i +\" is \"+\"{:.2f}\".format(100-(items[i]/item_list2.count(i))*100)+\" %\")\n",
    "    number+=1\n",
    "print(\" \")\n",
    "print(\"A graphical representation of the data is as follows:\")\n",
    "print(\" \")"
   ]
  },
  {
   "cell_type": "code",
   "execution_count": null,
   "metadata": {},
   "outputs": [],
   "source": []
  }
 ],
 "metadata": {
  "kernelspec": {
   "display_name": "Python 3",
   "language": "python",
   "name": "python3"
  },
  "language_info": {
   "codemirror_mode": {
    "name": "ipython",
    "version": 3
   },
   "file_extension": ".py",
   "mimetype": "text/x-python",
   "name": "python",
   "nbconvert_exporter": "python",
   "pygments_lexer": "ipython3",
   "version": "3.8.3"
  }
 },
 "nbformat": 4,
 "nbformat_minor": 4
}
