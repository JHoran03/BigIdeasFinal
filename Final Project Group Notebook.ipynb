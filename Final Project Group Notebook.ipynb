{
 "cells": [
  {
   "cell_type": "markdown",
   "metadata": {},
   "source": [
    "# Big Idea Final Project\n",
    "\n",
    "## Determining the best neighborhood in Pittsburgh\n",
    "\n",
    "### Introduction\n",
    "The goal of this project is to determine the best neighborhood in Pittsburgh.  To accomplish this goal we looked at various data sets in order to come up with a metric that would determine the best neighborhood.\n",
    "### Metric\n",
    "We determined that the best metric to use would be health.  The metric of health is influnced by many factors, such as pollution and vaccination rates.  Each of these submetrics will aid in determining which neighborhood in Pittsburgh is the healthiest.  To determine this metric we will be looking at 3 different data sets. These include COVID-19 vaccations, air quality readings, and the blood lead percentages found in various neighborhoods.  Each of these metrics detail the health and pollution in a neighborhood.  Neighborhoods with high vaccination rates, low blood lead toxicity and good air quality will be in consideration for the best neighborhood."
   ]
  },
  {
   "cell_type": "code",
   "execution_count": 5,
   "metadata": {},
   "outputs": [
    {
     "name": "stdout",
     "output_type": "stream",
     "text": [
      "0 The percentage of good air quality days are Lincoln is 77.06 %\n",
      "1 The percentage of good air quality days are Avalon is 86.65 %\n",
      "2 The percentage of good air quality days are Lawrenceville is 82.76 %\n",
      "3 The percentage of good air quality days are Liberty 2 is 79.72 %\n",
      "4 The percentage of good air quality days are Parkway East is 90.49 %\n",
      "5 The percentage of good air quality days are Glassport High Street is 99.38 %\n",
      "6 The percentage of good air quality days are North Braddock is 97.26 %\n",
      "7 The percentage of good air quality days are Liberty is 94.49 %\n",
      "8 The percentage of good air quality days are South Fayette is 96.48 %\n",
      "9 The percentage of good air quality days are Flag Plaza is 99.93 %\n",
      "10 The percentage of good air quality days are Harrison Township is 97.80 %\n",
      "11 The percentage of good air quality days are Clairton is 99.39 %\n",
      "12 The percentage of good air quality days are Pittsburgh is 86.39 %\n",
      " \n",
      "A graphical representation of the data is as follows:\n",
      " \n"
     ]
    },
    {
     "data": {
      "image/png": "[encoded data removed]",
      "text/plain": [
       "<Figure size 432x288 with 1 Axes>"
      ]
     },
     "metadata": {
      "needs_background": "light"
     },
     "output_type": "display_data"
    }
   ],
   "source": [
    "#Air Quality data/code\n",
    "import pandas as pd\n",
    "data=pd.Series([77.06,86.65,82.76,79.72,90.49,99.38,97.26,94.49,96.18,99.93,97.80,99.39,86.38])\n",
    "plt=data.sort_index().plot(kind='bar',x='Township', y='percentage')\n",
    "air = pd.read_csv(\"airq.csv\",sep=\",\")\n",
    "items=dict()\n",
    "count=0\n",
    "item_list=[]\n",
    "item_list2=[]\n",
    "cost=0\n",
    "number=0\n",
    "while len(air)>count:\n",
    "    \n",
    "    name=air.iat[count,4]\n",
    "    town=air.iat[count,1]\n",
    "        \n",
    "    item_list2.append(town)\n",
    "    if name!=\"Good\":\n",
    "        town=air.iat[count,1]\n",
    "        \n",
    "        item_list.append(town)\n",
    "    count+=1\n",
    "for c in item_list:\n",
    "    \n",
    "    if c not in items:\n",
    "        items[c] = 1\n",
    "    else:\n",
    "        items[c] = items[c] + 1\n",
    "        \n",
    "        \n",
    "        \n",
    "        \n",
    "\n",
    "for i in items:\n",
    "    num=str(number)\n",
    "    print(num+\" The percentage of good air quality days are \"+i +\" is \"+\"{:.2f}\".format(100-(items[i]/item_list2.count(i))*100)+\" %\")\n",
    "    number+=1\n",
    "print(\" \")\n",
    "print(\"A graphical representation of the data is as follows:\")\n",
    "print(\" \")"
   ]
  },
  {
   "cell_type": "code",
   "execution_count": 4,
   "metadata": {},
   "outputs": [
    {
     "name": "stderr",
     "output_type": "stream",
     "text": [
      "<ipython-input-4-54b622f0cc5c>:4: FutureWarning: Dropping of nuisance columns in DataFrame reductions (with 'numeric_only=None') is deprecated; in a future version this will raise TypeError.  Select only valid columns before calling the reduction.\n",
      "  Average=Districtavg.mean()\n"
     ]
    },
    {
     "data": {
      "text/html": [
       "<div>\n",
       "<style scoped>\n",
       "    .dataframe tbody tr th:only-of-type {\n",
       "        vertical-align: middle;\n",
       "    }\n",
       "\n",
       "    .dataframe tbody tr th {\n",
       "        vertical-align: top;\n",
       "    }\n",
       "\n",
       "    .dataframe thead th {\n",
       "        text-align: right;\n",
       "    }\n",
       "</style>\n",
       "<table border=\"1\" class=\"dataframe\">\n",
       "  <thead>\n",
       "    <tr style=\"text-align: right;\">\n",
       "      <th></th>\n",
       "      <th>SchoolDistrict</th>\n",
       "      <th>percentEBLL15_20</th>\n",
       "    </tr>\n",
       "  </thead>\n",
       "  <tbody>\n",
       "    <tr>\n",
       "      <th>0</th>\n",
       "      <td>Allegheny Valley</td>\n",
       "      <td>0.58</td>\n",
       "    </tr>\n",
       "    <tr>\n",
       "      <th>2</th>\n",
       "      <td>Baldwin-Whitehall</td>\n",
       "      <td>0.98</td>\n",
       "    </tr>\n",
       "    <tr>\n",
       "      <th>3</th>\n",
       "      <td>Bethel Park</td>\n",
       "      <td>0.44</td>\n",
       "    </tr>\n",
       "    <tr>\n",
       "      <th>10</th>\n",
       "      <td>Deer Lakes</td>\n",
       "      <td>0.45</td>\n",
       "    </tr>\n",
       "    <tr>\n",
       "      <th>15</th>\n",
       "      <td>Fox Chapel Area</td>\n",
       "      <td>0.77</td>\n",
       "    </tr>\n",
       "    <tr>\n",
       "      <th>17</th>\n",
       "      <td>Hampton Township</td>\n",
       "      <td>0.13</td>\n",
       "    </tr>\n",
       "    <tr>\n",
       "      <th>19</th>\n",
       "      <td>Keystone Oaks</td>\n",
       "      <td>0.94</td>\n",
       "    </tr>\n",
       "    <tr>\n",
       "      <th>21</th>\n",
       "      <td>Montour</td>\n",
       "      <td>0.80</td>\n",
       "    </tr>\n",
       "    <tr>\n",
       "      <th>22</th>\n",
       "      <td>Moon Area</td>\n",
       "      <td>0.95</td>\n",
       "    </tr>\n",
       "    <tr>\n",
       "      <th>23</th>\n",
       "      <td>Mt. Lebanon</td>\n",
       "      <td>0.37</td>\n",
       "    </tr>\n",
       "    <tr>\n",
       "      <th>24</th>\n",
       "      <td>North Allegheny</td>\n",
       "      <td>0.20</td>\n",
       "    </tr>\n",
       "    <tr>\n",
       "      <th>25</th>\n",
       "      <td>North Hills</td>\n",
       "      <td>1.01</td>\n",
       "    </tr>\n",
       "    <tr>\n",
       "      <th>27</th>\n",
       "      <td>Penn Hills</td>\n",
       "      <td>0.86</td>\n",
       "    </tr>\n",
       "    <tr>\n",
       "      <th>29</th>\n",
       "      <td>Pine-Richland</td>\n",
       "      <td>0.00</td>\n",
       "    </tr>\n",
       "    <tr>\n",
       "      <th>30</th>\n",
       "      <td>Plum Borough</td>\n",
       "      <td>0.00</td>\n",
       "    </tr>\n",
       "    <tr>\n",
       "      <th>35</th>\n",
       "      <td>South Fayette Township</td>\n",
       "      <td>0.83</td>\n",
       "    </tr>\n",
       "    <tr>\n",
       "      <th>36</th>\n",
       "      <td>South Park</td>\n",
       "      <td>0.37</td>\n",
       "    </tr>\n",
       "    <tr>\n",
       "      <th>39</th>\n",
       "      <td>Upper St. Clair Area</td>\n",
       "      <td>0.26</td>\n",
       "    </tr>\n",
       "    <tr>\n",
       "      <th>40</th>\n",
       "      <td>West Allegheny</td>\n",
       "      <td>0.38</td>\n",
       "    </tr>\n",
       "    <tr>\n",
       "      <th>41</th>\n",
       "      <td>West Jefferson Hills</td>\n",
       "      <td>0.13</td>\n",
       "    </tr>\n",
       "  </tbody>\n",
       "</table>\n",
       "</div>"
      ],
      "text/plain": [
       "            SchoolDistrict  percentEBLL15_20\n",
       "0         Allegheny Valley              0.58\n",
       "2        Baldwin-Whitehall              0.98\n",
       "3              Bethel Park              0.44\n",
       "10              Deer Lakes              0.45\n",
       "15         Fox Chapel Area              0.77\n",
       "17        Hampton Township              0.13\n",
       "19           Keystone Oaks              0.94\n",
       "21                 Montour              0.80\n",
       "22               Moon Area              0.95\n",
       "23             Mt. Lebanon              0.37\n",
       "24         North Allegheny              0.20\n",
       "25             North Hills              1.01\n",
       "27              Penn Hills              0.86\n",
       "29           Pine-Richland              0.00\n",
       "30            Plum Borough              0.00\n",
       "35  South Fayette Township              0.83\n",
       "36              South Park              0.37\n",
       "39    Upper St. Clair Area              0.26\n",
       "40          West Allegheny              0.38\n",
       "41    West Jefferson Hills              0.13"
      ]
     },
     "execution_count": 4,
     "metadata": {},
     "output_type": "execute_result"
    },
    {
     "data": {
      "image/png": "[encoded data removed]",
      "text/plain": [
       "<Figure size 432x288 with 1 Axes>"
      ]
     },
     "metadata": {
      "needs_background": "light"
     },
     "output_type": "display_data"
    }
   ],
   "source": [
    "df = pd.read_csv(\"wprdc_schooldistrict_ebll15_20.csv\")\n",
    "yearly=df.loc[:, [\"SchoolDistrict\",\"percentEBLL2015\", \"percentEBLL2016\", \"percentEBLL2017\", \"percentEBLL2018\", \"percentEBLL2019\", \"percent2020\"]]\n",
    "Districtavg=df.loc[:, [\"SchoolDistrict\",\"percentEBLL15_20\"]]\n",
    "Average=Districtavg.mean()\n",
    "sortedD=Districtavg.sort_values(by=\"percentEBLL15_20\")\n",
    "sortedD.head(20)\n",
    "plt=sortedD.head(20).sort_index().plot(kind='bar')\n",
    "# draw a black horizontal line\n",
    "plt.axhline()\n",
    "sortedD.head(20).sort_index()"
   ]
  },
  {
   "cell_type": "code",
   "execution_count": null,
   "metadata": {},
   "outputs": [],
   "source": []
  },
  {
   "cell_type": "markdown",
   "metadata": {},
   "source": [
    "### The Best Neighborhood:  West Allegheny \n",
    "We had to interpret the 3 different matrics in different ways because of the vast differences between out datasets. 1st each data set took its data from different areas, so we had to determine which city should be considered for each data point in both airquality and EBLL which use dont just simply use the neighborhood."
   ]
  },
  {
   "cell_type": "markdown",
   "metadata": {},
   "source": [
    "We also had to consider large variences in our data, Covid vacination rates were fairly consistent dropping from around 45% to 30% well after the top 10 and continued to fall gradually. Similarly EBLL only raised from 0% to 1% within the top 20 which, with an average of 1.77% and multiple outliers above 5%, remains quite healthy.  However Airquality deviates much more, within the top 12 it goes from around 99% good air quality days, to below 80%. With that being said we looked at all of our top data points allowing more freedom of choice for the 2 data sets with higher consistency. "
   ]
  },
  {
   "cell_type": "markdown",
   "metadata": {},
   "source": [
    "We determined through all this that West Allegheny was the healthiest and best neighborhood in the Pittsburgh area. Its school district was among the best of EBLL with avg of .38%, it has almost 45% of its population fully vaxinated. And was between these two less stringent data sets was the only Neighboorhood we found within close proximity to locations with airquality above 90%"
   ]
  },
  {
   "cell_type": "code",
   "execution_count": null,
   "metadata": {},
   "outputs": [],
   "source": []
  }
 ],
 "metadata": {
  "kernelspec": {
   "display_name": "Python 3",
   "language": "python",
   "name": "python3"
  },
  "language_info": {
   "codemirror_mode": {
    "name": "ipython",
    "version": 3
   },
   "file_extension": ".py",
   "mimetype": "text/x-python",
   "name": "python",
   "nbconvert_exporter": "python",
   "pygments_lexer": "ipython3",
   "version": "3.8.3"
  }
 },
 "nbformat": 4,
 "nbformat_minor": 4
}
