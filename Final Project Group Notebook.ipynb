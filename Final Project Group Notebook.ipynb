{
 "cells": [
  {
   "cell_type": "markdown",
   "metadata": {},
   "source": [
    "# Big Idea Final Project\n",
    "\n",
    "## Determining the best neighborhood in Pittsburgh\n",
    "\n",
    "### Introduction\n",
    "The goal of this project is to determine the best neighborhood in Pittsburgh.  To accomplish this goal we looked at various data sets in order to come up with a metric that would determine the best neighborhood.\n",
    "### Metric\n",
    "We determined that the best metric to use would be health.  The metric of health is influnced by many factors, such as pollution and vaccination rates.  Each of these submetrics will aid in determining which neighborhood in Pittsburgh is the healthiest.  To determine this metric we will be looking at 3 different data sets. These include COVID-19 vaccations, air quality readings, and the blood lead percentages found in various neighborhoods.  Each of these metrics detail the health and pollution in a neighborhood.  Neighborhoods with high vaccination rates, low blood lead toxicity and good air quality will be in consideration for the best neighborhood."
   ]
  },
  {
   "cell_type": "code",
   "execution_count": null,
   "metadata": {},
   "outputs": [],
   "source": []
  }
 ],
 "metadata": {
  "kernelspec": {
   "display_name": "Python 3",
   "language": "python",
   "name": "python3"
  },
  "language_info": {
   "codemirror_mode": {
    "name": "ipython",
    "version": 3
   },
   "file_extension": ".py",
   "mimetype": "text/x-python",
   "name": "python",
   "nbconvert_exporter": "python",
   "pygments_lexer": "ipython3",
   "version": "3.8.3"
  }
 },
 "nbformat": 4,
 "nbformat_minor": 4
}
